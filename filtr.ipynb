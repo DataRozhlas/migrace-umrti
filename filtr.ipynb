{
 "cells": [
  {
   "cell_type": "code",
   "execution_count": 2,
   "metadata": {
    "collapsed": true
   },
   "outputs": [],
   "source": [
    "import pandas as pd"
   ]
  },
  {
   "cell_type": "code",
   "execution_count": 2,
   "metadata": {
    "collapsed": true
   },
   "outputs": [],
   "source": [
    "events = pd.read_csv(r'data/Event.csv')"
   ]
  },
  {
   "cell_type": "code",
   "execution_count": 16,
   "metadata": {
    "collapsed": false
   },
   "outputs": [],
   "source": [
    "events[events.date > '2014-12-31']"
   ]
  },
  {
   "cell_type": "code",
   "execution_count": 24,
   "metadata": {
    "collapsed": true
   },
   "outputs": [],
   "source": [
    "d2eu = pd.read_excel(r'data/Data_Deaths_en_route_to_Europe 2000-2014.xlsx', sheetname='Sheet1')"
   ]
  },
  {
   "cell_type": "code",
   "execution_count": 31,
   "metadata": {
    "collapsed": false
   },
   "outputs": [],
   "source": [
    "pd.concat([events[events.date > '2014-12-31'], d2eu[d2eu.Route == 'TE']], ignore_index=True).to_excel(r'data/events_14_15.xlsx')"
   ]
  },
  {
   "cell_type": "code",
   "execution_count": 14,
   "metadata": {
    "collapsed": false
   },
   "outputs": [
    {
     "name": "stdout",
     "output_type": "stream",
     "text": [
      "{'2014-06': 147, '2015-02': 335, '2015-04': 475, '2014-02': 13, '2014-01': 12, '2015-03': 67, '2014-05': 109, '2014-03': 9, '2014-12': 4, '2014-08': 455, '2014-04': 41, '2015-01': 47, '2014-07': 617}\n"
     ]
    }
   ],
   "source": [
    "#histogram mesice\n",
    "data = pd.read_excel(r'data/events_14_15.xlsx')\n",
    "\n",
    "mesice = {}\n",
    "\n",
    "for row in data.iterrows():\n",
    "    dateParts = str(row[1]['date']).split('-')\n",
    "    month = dateParts[0] + '-' + dateParts[1]\n",
    "    if month not in mesice:\n",
    "        mesice[month] = 0\n",
    "    mesice[month] += row[1]['dead_and_missing']\n",
    "    \n",
    "print(mesice)"
   ]
  }
 ],
 "metadata": {
  "kernelspec": {
   "display_name": "Python 3",
   "language": "python",
   "name": "python3"
  },
  "language_info": {
   "codemirror_mode": {
    "name": "ipython",
    "version": 3
   },
   "file_extension": ".py",
   "mimetype": "text/x-python",
   "name": "python",
   "nbconvert_exporter": "python",
   "pygments_lexer": "ipython3",
   "version": "3.4.3"
  }
 },
 "nbformat": 4,
 "nbformat_minor": 0
}
